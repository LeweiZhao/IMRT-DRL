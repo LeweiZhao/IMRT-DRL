{
 "cells": [
  {
   "cell_type": "code",
   "execution_count": 2,
   "id": "66b95a50",
   "metadata": {},
   "outputs": [],
   "source": [
    "import random\n",
    "import gym\n",
    "import numpy as np\n",
    "import torch\n",
    "import torch.nn.functional as F\n",
    "import matplotlib.pyplot as plt\n",
    "import rl_utils\n",
    "from tqdm import tqdm\n",
    "import env"
   ]
  },
  {
   "cell_type": "code",
   "execution_count": 3,
   "id": "0870a67b",
   "metadata": {},
   "outputs": [],
   "source": [
    "class FeatureExtractor(torch.nn.Module):\n",
    "    # input_dim = 72 + 8 * 128 = 1096\n",
    "    # output_dim = 128 + 8 * 64 = 640\n",
    "    def __init__(self, input_dim = 1096, batch_norm = True):\n",
    "        \"Three FC layers, two hidden layers, len of hidden_sizes: 2\"\n",
    "        super(FeatureExtractor, self).__init__()\n",
    "        self.theta_dim = 72\n",
    "        self.dvh_dim = 128\n",
    "        hidden_sizes = [512, 256]\n",
    "        self.theta_out_dim = 128\n",
    "        self.fc_theta_1 = torch.nn.Linear(self.theta_dim, hidden_sizes[0])\n",
    "        self.fc_theta_2 = torch.nn.Linear(hidden_sizes[0], hidden_sizes[1])\n",
    "        self.fc_theta_3 = torch.nn.Linear(hidden_sizes[1], self.theta_out_dim)\n",
    "        \n",
    "        input_channels = (input_dim - self.theta_dim) // self.dvh_dim\n",
    "        self.input_channels = input_channels\n",
    "        dvh_output_size = input_channels * self.dvh_dim // 2\n",
    "        Conv_dim = [input_channels * 4, input_channels * 8, input_channels * 16, input_channels * 32]\n",
    "        self.fc1_dim =  input_channels * self.dvh_dim * 2\n",
    "        self.batch_norm = batch_norm\n",
    "        \n",
    "        if self.batch_norm:\n",
    "            self.bn1 = torch.nn.BatchNorm1d(Conv_dim[0])\n",
    "            self.bn2 = torch.nn.BatchNorm1d(Conv_dim[1])\n",
    "            self.bn3 = torch.nn.BatchNorm1d(Conv_dim[2])\n",
    "            self.bn4 = torch.nn.BatchNorm1d(Conv_dim[3])\n",
    "            self.bn5 = torch.nn.BatchNorm1d(dvh_output_size * 2)\n",
    "            \n",
    "        self.conv_1 = torch.nn.Conv1d(in_channels = input_channels, out_channels = Conv_dim[0],\n",
    "                                      kernel_size = 3, stride = 1, padding = 1)\n",
    "        self.conv_2 = torch.nn.Conv1d(in_channels = Conv_dim[0], out_channels = Conv_dim[1],\n",
    "                                      kernel_size = 3, stride = 1, padding = 1)\n",
    "        self.conv_3 = torch.nn.Conv1d(in_channels = Conv_dim[1], out_channels = Conv_dim[2],\n",
    "                                      kernel_size = 3, stride = 1, padding = 1)\n",
    "        self.conv_4 = torch.nn.Conv1d(in_channels = Conv_dim[2], out_channels = Conv_dim[3],\n",
    "                                      kernel_size = 3, stride = 1, padding = 1)\n",
    "        \n",
    "        self.maxpool = torch.nn.MaxPool1d(3, stride=2, padding=1)\n",
    "        self.relu = torch.nn.ReLU()\n",
    "        \n",
    "        self.fc_dvh_1 = torch.nn.Linear(self.fc1_dim, self.fc1_dim // 2)\n",
    "        self.fc_dvh_2 = torch.nn.Linear(self.fc1_dim // 2, dvh_output_size)\n",
    "        \n",
    "    def forward(self, state):\n",
    "        theta_state = state[:,:self.theta_dim]\n",
    "        dvh_state = torch.reshape(state[:, self.theta_dim:], (-1, self.input_channels, self.dvh_dim))\n",
    "        \n",
    "        x = self.relu(self.fc_theta_1(theta_state))\n",
    "        x = self.relu(self.fc_theta_2(x))\n",
    "        x = self.fc_theta_3(x)\n",
    "        \n",
    "        if self.batch_norm:\n",
    "            y = self.maxpool(self.relu(self.bn1(self.conv_1(dvh_state))))\n",
    "            y = self.maxpool(self.relu(self.bn2(self.conv_2(y))))\n",
    "            y = self.maxpool(self.relu(self.bn3(self.conv_3(y))))\n",
    "            y = self.maxpool(self.relu(self.bn4(self.conv_4(y))))\n",
    "            y = torch.reshape(y, (-1, self.fc1_dim))\n",
    "            y = self.relu(self.bn5(self.fc_dvh_1(y)))\n",
    "            y = self.fc_dvh_2(y)\n",
    "        else:\n",
    "            y = self.maxpool(self.relu(self.conv_1(dvh_state)))\n",
    "            y = self.maxpool(self.relu(self.conv_2(y)))\n",
    "            y = self.maxpool(self.relu(self.conv_3(y)))\n",
    "            y = self.maxpool(self.relu(self.conv_4(y)))\n",
    "            y = torch.reshape(y, (-1, self.fc1_dim))\n",
    "            y = self.relu(self.bn5(self.fc_dvh_1(y)))\n",
    "            y = self.relu(self.fc_dvh_1(y))\n",
    "            y = self.fc_dvh_2(y)\n",
    "        \n",
    "        out = torch.cat((x, y), dim = 1)\n",
    "        \n",
    "        return out"
   ]
  },
  {
   "cell_type": "code",
   "execution_count": 4,
   "id": "46fdbc5a",
   "metadata": {},
   "outputs": [],
   "source": [
    "# methon in Dong.\n",
    "class Conv_Block(torch.nn.Module):\n",
    "    def __init__(self, input_channels, output_channels):\n",
    "        super(Conv_Block, self).__init__()\n",
    "        self.conv_1 = torch.nn.Conv1d(in_channels = input_channels, out_channels = output_channels,\n",
    "                                      kernel_size = 3, stride = 1, padding = 1)\n",
    "        self.conv_2 = torch.nn.Conv1d(in_channels = output_channels, out_channels = output_channels,\n",
    "                                      kernel_size = 3, stride = 1, padding = 1)\n",
    "        self.maxpool = torch.nn.MaxPool1d(3, stride=2, padding=1)\n",
    "        self.relu = torch.nn.ReLU()\n",
    "    \n",
    "    def forward(self, x):\n",
    "        x = self.relu(self.conv_1(x))\n",
    "        x = self.relu(self.conv_2(x))\n",
    "        x = self.maxpool(x)\n",
    "        return x"
   ]
  },
  {
   "cell_type": "code",
   "execution_count": 5,
   "id": "6ce81e49",
   "metadata": {},
   "outputs": [],
   "source": [
    "class Qnet(torch.nn.Module):\n",
    "    def __init__(self, state_dim, action_dim = 72):\n",
    "        super(Qnet, self).__init__()\n",
    "        self.theta_dim = 72\n",
    "        self.theta_out_dim = 128\n",
    "        self.dvh_dim = 128\n",
    "        self.dvh_channels = (state_dim - self.theta_dim) // self.dvh_dim\n",
    "        self.feature = FeatureExtractor(input_dim = state_dim)\n",
    "        self.feature_dim = self.theta_out_dim + self.dvh_channels * self.dvh_dim // 2\n",
    "        # hidden layers: fit Q function, num : feature_num(72 + 128 * n) - 512 - 256 - 72\n",
    "        hidden_dims = [512, 256]\n",
    "        self.fc1 = torch.nn.Linear(self.feature_dim, hidden_dims[0])\n",
    "        self.fc2 = torch.nn.Linear(hidden_dims[0], hidden_dims[1])\n",
    "        self.fc3 = torch.nn.Linear(hidden_dims[1], action_dim)\n",
    "\n",
    "    def forward(self, state):\n",
    "        # Splitting and restructuring of state to theta and dvh\n",
    "        # the feature extract of theta and dvh is done separately \n",
    "        # then merge two features into one\n",
    "        x = self.feature(state)\n",
    "        x = F.relu(self.fc1(x))\n",
    "        x = F.relu(self.fc2(x))\n",
    "        x = self.fc3(x)\n",
    "        return x"
   ]
  },
  {
   "cell_type": "code",
   "execution_count": 13,
   "id": "ed5f5b74",
   "metadata": {},
   "outputs": [],
   "source": [
    "class DQN:\n",
    "    def __init__(self,\n",
    "                 state_dim,\n",
    "                 action_dim,\n",
    "                 learning_rate,\n",
    "                 gamma,\n",
    "                 epsilon,\n",
    "                 target_update,\n",
    "                 device,\n",
    "                 dqn_type='VanillaDQN'):\n",
    "        self.action_dim = action_dim\n",
    "        self.q_net = Qnet(state_dim, self.action_dim).to(device)\n",
    "        self.target_q_net = Qnet(state_dim, self.action_dim).to(device)\n",
    "        self.optimizer = torch.optim.Adam(self.q_net.parameters(), lr=learning_rate)\n",
    "        self.gamma = gamma\n",
    "        self.epsilon = epsilon\n",
    "        self.target_update = target_update\n",
    "        self.count = 0\n",
    "        self.dqn_type = dqn_type\n",
    "        self.device = device\n",
    "\n",
    "    def optional_action(self, state):\n",
    "        # return a int list, which represents the optional action id\n",
    "        # like [0, 1, 36, 71]\n",
    "        theta_dim = 72\n",
    "        theta = state[0,:theta_dim]\n",
    "        optional_action_list = np.where(theta == 0)\n",
    "        return optional_action_list[0]\n",
    "    \n",
    "    def take_action(self, state):\n",
    "        optional_action_list = self.optional_action(state)\n",
    "        if np.random.random() < self.epsilon:\n",
    "            index = np.random.randint(len(optional_action_list))\n",
    "            action = optional_action_list[index]\n",
    "        else:\n",
    "            state = torch.tensor(state, dtype=torch.float).to(self.device)\n",
    "            action = self.q_net(state).argmax().item()\n",
    "        return action\n",
    "    \n",
    "    def max_q_value(self, state):\n",
    "        state = torch.tensor(state, dtype=torch.float).to(self.device)\n",
    "        return self.q_net(state).max().item()\n",
    "\n",
    "    def update(self, transition_dict):\n",
    "        states = torch.tensor(transition_dict['states'],\n",
    "                              dtype=torch.float).to(self.device)\n",
    "        actions = torch.tensor(transition_dict['actions']).view(-1, 1).to(\n",
    "            self.device)\n",
    "        rewards = torch.tensor(transition_dict['rewards'],\n",
    "                               dtype=torch.float).view(-1, 1).to(self.device)\n",
    "        next_states = torch.tensor(transition_dict['next_states'],\n",
    "                                   dtype=torch.float).to(self.device)\n",
    "        dones = torch.tensor(transition_dict['dones'],\n",
    "                             dtype=torch.float).view(-1, 1).to(self.device)\n",
    "\n",
    "        # x.gather(1, index): 按列索引x的值（长度为len(index），第i个元素为x第i行，第index[i]列的值）\n",
    "        # q_values即为该批次(batch_size)的value向量\n",
    "        q_values = self.q_net(states).gather(1, actions)\n",
    "        if self.dqn_type == 'DoubleDQN':\n",
    "            max_action = self.q_net(next_states).max(1)[1].view(-1, 1)\n",
    "            max_next_q_values = self.target_q_net(next_states).gather(1, max_action)\n",
    "        else: # DQN\n",
    "            max_next_q_values = self.target_q_net(next_states).max(1)[0].view(-1, 1)\n",
    "        q_targets = rewards + self.gamma * max_next_q_values * (1 - dones)  # TD误差目标\n",
    "        dqn_loss = torch.mean(F.mse_loss(q_values, q_targets))  #  MSE loss fucntion\n",
    "        self.optimizer.zero_grad()  # PyTorch中默认梯度会累积,这里需要显式将梯度置为0\n",
    "        dqn_loss.backward()  # 反向传播更新参数\n",
    "        self.optimizer.step()\n",
    "\n",
    "        if self.count % self.target_update == 0:\n",
    "            self.target_q_net.load_state_dict(\n",
    "                self.q_net.state_dict())  # 更新目标网络\n",
    "        self.count += 1"
   ]
  },
  {
   "cell_type": "code",
   "execution_count": 11,
   "id": "efddce67",
   "metadata": {},
   "outputs": [],
   "source": [
    "lr = 1e-2\n",
    "num_episodes = 200\n",
    "gamma = 0.98\n",
    "epsilon = 0.01\n",
    "target_update = 50\n",
    "buffer_size = 6\n",
    "minimal_size = 2\n",
    "batch_size = 2\n",
    "device = torch.device(\"cuda\") if torch.cuda.is_available() else torch.device(\n",
    "    \"cpu\")"
   ]
  },
  {
   "cell_type": "code",
   "execution_count": 8,
   "id": "fb41d8ef",
   "metadata": {},
   "outputs": [
    {
     "name": "stdout",
     "output_type": "stream",
     "text": [
      "creating rinds.. This step may take some time due to dilation\n",
      "Optimization structures created!!\n"
     ]
    }
   ],
   "source": [
    "data_path = r'D:\\MyJupyter\\RL_BAO\\Data'\n",
    "portpy_env = env.PortPyEnv(data_path = data_path, step_max_num = 3)"
   ]
  },
  {
   "cell_type": "code",
   "execution_count": 14,
   "id": "af7466da",
   "metadata": {},
   "outputs": [],
   "source": [
    "def train_DQN(agent, env, num_episodes, replay_buffer, minimal_size,\n",
    "              batch_size):\n",
    "    return_list = []\n",
    "    max_q_value_list = []\n",
    "    max_q_value = 0\n",
    "    for i in range(1):\n",
    "        with tqdm(total=int(num_episodes / 10),\n",
    "                  desc='Iteration %d' % i) as pbar:\n",
    "            for i_episode in range(int(num_episodes / 10)):\n",
    "                episode_return = 0\n",
    "                state = env.reset()\n",
    "                done = False\n",
    "                while not done:\n",
    "                    # batch_normalization 不允许输入的批量数为1\n",
    "                    state = np.array([state, state])\n",
    "                    action = agent.take_action(state)\n",
    "                    max_q_value = agent.max_q_value(\n",
    "                        state) * 0.005 + max_q_value * 0.995  # 平滑处理\n",
    "                    max_q_value_list.append(max_q_value)  # 保存每个状态的最大Q值\n",
    "                    next_state, reward, done, _ = env.step(action)\n",
    "                    replay_buffer.add(state[0], action, reward, next_state, done)\n",
    "                    state = next_state\n",
    "                    episode_return += reward\n",
    "                    if replay_buffer.size() > minimal_size:\n",
    "                        b_s, b_a, b_r, b_ns, b_d = replay_buffer.sample(batch_size)\n",
    "                        transition_dict = {\n",
    "                            'states': b_s,\n",
    "                            'actions': b_a,\n",
    "                            'next_states': b_ns,\n",
    "                            'rewards': b_r,\n",
    "                            'dones': b_d\n",
    "                        }\n",
    "                        agent.update(transition_dict)\n",
    "                return_list.append(episode_return)\n",
    "                if (i_episode + 1) % 10 == 0:\n",
    "                    pbar.set_postfix({\n",
    "                        'episode':\n",
    "                        '%d' % (num_episodes / 10 * i + i_episode + 1),\n",
    "                        'return':\n",
    "                        '%.3f' % np.mean(return_list[-10:])\n",
    "                    })\n",
    "                pbar.update(1)\n",
    "    return return_list, max_q_value_list"
   ]
  },
  {
   "cell_type": "code",
   "execution_count": 15,
   "id": "0589f7a9",
   "metadata": {
    "scrolled": false
   },
   "outputs": [
    {
     "name": "stderr",
     "output_type": "stream",
     "text": [
      "\r",
      "Iteration 0:   0%|                                                                              | 0/20 [00:00<?, ?it/s]"
     ]
    },
    {
     "name": "stdout",
     "output_type": "stream",
     "text": [
      "Creating BEV..\n",
      "Loading sparse influence matrix...\n",
      "Done\n",
      "Objective Start\n",
      "Objective done\n",
      "Constraints Start\n",
      "Constraints done\n",
      "Running Optimization..\n",
      "Optimal value: 66085.25501755641\n",
      "Elapsed time: 12.915423393249512 seconds\n",
      "Creating BEV..\n",
      "Loading sparse influence matrix...\n",
      "Done\n",
      "Objective Start\n",
      "Objective done\n",
      "Constraints Start\n",
      "Constraints done\n",
      "Running Optimization..\n",
      "Optimal value: 66085.2660412982\n",
      "Elapsed time: 15.670580387115479 seconds\n",
      "Creating BEV..\n",
      "Loading sparse influence matrix...\n",
      "Done\n",
      "Objective Start\n",
      "Objective done\n",
      "Constraints Start\n",
      "Constraints done\n",
      "Running Optimization..\n",
      "Optimal value: 66085.26535015475\n",
      "Elapsed time: 13.186717510223389 seconds\n",
      "Creating BEV..\n",
      "Loading sparse influence matrix...\n",
      "Done\n",
      "Objective Start\n",
      "Objective done\n",
      "Constraints Start\n",
      "Constraints done\n",
      "Running Optimization..\n",
      "Optimal value: 3595.029462701458\n",
      "Elapsed time: 23.526299715042114 seconds\n"
     ]
    },
    {
     "name": "stderr",
     "output_type": "stream",
     "text": [
      "\r",
      "Iteration 0:   5%|███▌                                                                  | 1/20 [01:15<23:55, 75.54s/it]"
     ]
    },
    {
     "name": "stdout",
     "output_type": "stream",
     "text": [
      "Creating BEV..\n",
      "Loading sparse influence matrix...\n",
      "Done\n",
      "Objective Start\n",
      "Objective done\n",
      "Constraints Start\n",
      "Constraints done\n",
      "Running Optimization..\n",
      "Optimal value: 100358.30120635209\n",
      "Elapsed time: 18.960392713546753 seconds\n"
     ]
    },
    {
     "name": "stderr",
     "output_type": "stream",
     "text": [
      "\r",
      "Iteration 0:  10%|███████                                                               | 2/20 [01:35<12:51, 42.88s/it]"
     ]
    },
    {
     "name": "stdout",
     "output_type": "stream",
     "text": [
      "Creating BEV..\n",
      "Loading sparse influence matrix...\n",
      "Done\n",
      "Objective Start\n",
      "Objective done\n",
      "Constraints Start\n",
      "Constraints done\n",
      "Running Optimization..\n",
      "Optimal value: 100358.31860740624\n",
      "Elapsed time: 20.763087511062622 seconds\n"
     ]
    },
    {
     "name": "stderr",
     "output_type": "stream",
     "text": [
      "\r",
      "Iteration 0:  15%|██████████▌                                                           | 3/20 [01:57<09:24, 33.19s/it]"
     ]
    },
    {
     "name": "stdout",
     "output_type": "stream",
     "text": [
      "Creating BEV..\n",
      "Loading sparse influence matrix...\n",
      "Done\n",
      "Objective Start\n",
      "Objective done\n",
      "Constraints Start\n",
      "Constraints done\n",
      "Running Optimization..\n",
      "Optimal value: 100358.32112367342\n",
      "Elapsed time: 23.48955535888672 seconds\n"
     ]
    },
    {
     "name": "stderr",
     "output_type": "stream",
     "text": [
      "\r",
      "Iteration 0:  20%|██████████████                                                        | 4/20 [02:21<07:54, 29.69s/it]"
     ]
    },
    {
     "name": "stdout",
     "output_type": "stream",
     "text": [
      "Creating BEV..\n",
      "Loading sparse influence matrix...\n",
      "Done\n",
      "Objective Start\n",
      "Objective done\n",
      "Constraints Start\n",
      "Constraints done\n",
      "Running Optimization..\n",
      "Optimal value: 100358.30411548409\n",
      "Elapsed time: 27.209455728530884 seconds\n"
     ]
    },
    {
     "name": "stderr",
     "output_type": "stream",
     "text": [
      "\r",
      "Iteration 0:  25%|█████████████████▌                                                    | 5/20 [02:49<07:16, 29.09s/it]"
     ]
    },
    {
     "name": "stdout",
     "output_type": "stream",
     "text": [
      "Creating BEV..\n",
      "Loading sparse influence matrix...\n",
      "Done\n",
      "Objective Start\n",
      "Objective done\n",
      "Constraints Start\n",
      "Constraints done\n",
      "Running Optimization..\n",
      "Optimal value: 100358.29000367378\n",
      "Elapsed time: 25.046062707901 seconds\n"
     ]
    },
    {
     "name": "stderr",
     "output_type": "stream",
     "text": [
      "\r",
      "Iteration 0:  30%|█████████████████████                                                 | 6/20 [03:15<06:31, 27.99s/it]"
     ]
    },
    {
     "name": "stdout",
     "output_type": "stream",
     "text": [
      "Creating BEV..\n",
      "Loading sparse influence matrix...\n",
      "Done\n",
      "Objective Start\n",
      "Objective done\n",
      "Constraints Start\n",
      "Constraints done\n",
      "Running Optimization..\n",
      "Optimal value: 66085.26728477314\n",
      "Elapsed time: 28.759214639663696 seconds\n"
     ]
    },
    {
     "name": "stderr",
     "output_type": "stream",
     "text": [
      "\r",
      "Iteration 0:  35%|████████████████████████▌                                             | 7/20 [03:44<06:10, 28.50s/it]"
     ]
    },
    {
     "name": "stdout",
     "output_type": "stream",
     "text": [
      "Creating BEV..\n",
      "Loading sparse influence matrix...\n",
      "Done\n",
      "Objective Start\n",
      "Objective done\n",
      "Constraints Start\n",
      "Constraints done\n",
      "Running Optimization..\n",
      "Optimal value: 66085.26208743571\n",
      "Elapsed time: 27.022502660751343 seconds\n"
     ]
    },
    {
     "name": "stderr",
     "output_type": "stream",
     "text": [
      "\r",
      "Iteration 0:  40%|████████████████████████████                                          | 8/20 [04:13<05:40, 28.37s/it]"
     ]
    },
    {
     "name": "stdout",
     "output_type": "stream",
     "text": [
      "Creating BEV..\n",
      "Loading sparse influence matrix...\n",
      "Done\n",
      "Objective Start\n",
      "Objective done\n",
      "Constraints Start\n",
      "Constraints done\n",
      "Running Optimization..\n",
      "Optimal value: 66085.2553736168\n",
      "Elapsed time: 28.114092588424683 seconds\n"
     ]
    },
    {
     "name": "stderr",
     "output_type": "stream",
     "text": [
      "\r",
      "Iteration 0:  45%|███████████████████████████████▌                                      | 9/20 [04:42<05:14, 28.59s/it]"
     ]
    },
    {
     "name": "stdout",
     "output_type": "stream",
     "text": [
      "Creating BEV..\n",
      "Loading sparse influence matrix...\n",
      "Done\n",
      "Objective Start\n",
      "Objective done\n",
      "Constraints Start\n",
      "Constraints done\n",
      "Running Optimization..\n",
      "Optimal value: 66085.25901539277\n",
      "Elapsed time: 30.862940073013306 seconds\n"
     ]
    },
    {
     "name": "stderr",
     "output_type": "stream",
     "text": [
      "Iteration 0:  50%|█████████████████████                     | 10/20 [05:13<04:55, 29.55s/it, episode=10, return=64.800]"
     ]
    },
    {
     "name": "stdout",
     "output_type": "stream",
     "text": [
      "Creating BEV..\n",
      "Loading sparse influence matrix...\n",
      "Done\n",
      "Objective Start\n",
      "Objective done\n",
      "Constraints Start\n",
      "Constraints done\n",
      "Running Optimization..\n",
      "Optimal value: 66085.26207904387\n",
      "Elapsed time: 33.46454191207886 seconds\n"
     ]
    },
    {
     "name": "stderr",
     "output_type": "stream",
     "text": [
      "\r",
      "Iteration 0:  55%|███████████████████████                   | 11/20 [05:48<04:39, 31.01s/it, episode=10, return=64.800]"
     ]
    },
    {
     "name": "stdout",
     "output_type": "stream",
     "text": [
      "Creating BEV..\n",
      "Loading sparse influence matrix...\n",
      "Done\n",
      "Objective Start\n",
      "Objective done\n",
      "Constraints Start\n",
      "Constraints done\n",
      "Running Optimization..\n",
      "Optimal value: 66085.26666318532\n",
      "Elapsed time: 34.72940921783447 seconds\n"
     ]
    },
    {
     "name": "stderr",
     "output_type": "stream",
     "text": [
      "\r",
      "Iteration 0:  60%|█████████████████████████▏                | 12/20 [06:23<04:19, 32.41s/it, episode=10, return=64.800]"
     ]
    },
    {
     "name": "stdout",
     "output_type": "stream",
     "text": [
      "Creating BEV..\n",
      "Loading sparse influence matrix...\n",
      "Done\n",
      "Objective Start\n",
      "Objective done\n",
      "Constraints Start\n",
      "Constraints done\n",
      "Running Optimization..\n",
      "Optimal value: 66085.26828784104\n",
      "Elapsed time: 38.53583526611328 seconds\n"
     ]
    },
    {
     "name": "stderr",
     "output_type": "stream",
     "text": [
      "\r",
      "Iteration 0:  65%|███████████████████████████▎              | 13/20 [07:03<04:01, 34.52s/it, episode=10, return=64.800]"
     ]
    },
    {
     "name": "stdout",
     "output_type": "stream",
     "text": [
      "Creating BEV..\n",
      "Loading sparse influence matrix...\n",
      "Done\n",
      "Objective Start\n",
      "Objective done\n",
      "Constraints Start\n",
      "Constraints done\n",
      "Running Optimization..\n",
      "Optimal value: 66085.26578627377\n",
      "Elapsed time: 40.86039137840271 seconds\n"
     ]
    },
    {
     "name": "stderr",
     "output_type": "stream",
     "text": [
      "\r",
      "Iteration 0:  70%|█████████████████████████████▍            | 14/20 [07:44<03:40, 36.71s/it, episode=10, return=64.800]"
     ]
    },
    {
     "name": "stdout",
     "output_type": "stream",
     "text": [
      "Creating BEV..\n",
      "Loading sparse influence matrix...\n",
      "Done\n",
      "Objective Start\n",
      "Objective done\n",
      "Constraints Start\n",
      "Constraints done\n",
      "Running Optimization..\n",
      "Optimal value: 66085.25377648891\n",
      "Elapsed time: 43.567569971084595 seconds\n"
     ]
    },
    {
     "name": "stderr",
     "output_type": "stream",
     "text": [
      "\r",
      "Iteration 0:  75%|███████████████████████████████▌          | 15/20 [08:29<03:15, 39.05s/it, episode=10, return=64.800]"
     ]
    },
    {
     "name": "stdout",
     "output_type": "stream",
     "text": [
      "Creating BEV..\n",
      "Loading sparse influence matrix...\n",
      "Done\n",
      "Objective Start\n",
      "Objective done\n",
      "Constraints Start\n",
      "Constraints done\n",
      "Running Optimization..\n",
      "Optimal value: 66085.25593127216\n",
      "Elapsed time: 44.27509045600891 seconds\n"
     ]
    },
    {
     "name": "stderr",
     "output_type": "stream",
     "text": [
      "\r",
      "Iteration 0:  80%|█████████████████████████████████▌        | 16/20 [09:14<02:43, 40.91s/it, episode=10, return=64.800]"
     ]
    },
    {
     "name": "stdout",
     "output_type": "stream",
     "text": [
      "Creating BEV..\n",
      "Loading sparse influence matrix...\n",
      "Done\n",
      "Objective Start\n",
      "Objective done\n",
      "Constraints Start\n",
      "Constraints done\n",
      "Running Optimization..\n",
      "Optimal value: 66085.259990453\n",
      "Elapsed time: 45.66170334815979 seconds\n"
     ]
    },
    {
     "name": "stderr",
     "output_type": "stream",
     "text": [
      "\r",
      "Iteration 0:  85%|███████████████████████████████████▋      | 17/20 [10:01<02:07, 42.61s/it, episode=10, return=64.800]"
     ]
    },
    {
     "name": "stdout",
     "output_type": "stream",
     "text": [
      "Creating BEV..\n",
      "Loading sparse influence matrix...\n",
      "Done\n",
      "Objective Start\n",
      "Objective done\n",
      "Constraints Start\n",
      "Constraints done\n",
      "Running Optimization..\n",
      "Optimal value: 66085.2629195493\n",
      "Elapsed time: 48.751964807510376 seconds\n"
     ]
    },
    {
     "name": "stderr",
     "output_type": "stream",
     "text": [
      "\r",
      "Iteration 0:  90%|█████████████████████████████████████▊    | 18/20 [10:50<01:29, 44.76s/it, episode=10, return=64.800]"
     ]
    },
    {
     "name": "stdout",
     "output_type": "stream",
     "text": [
      "Creating BEV..\n",
      "Loading sparse influence matrix...\n",
      "Done\n",
      "Objective Start\n",
      "Objective done\n",
      "Constraints Start\n",
      "Constraints done\n",
      "Running Optimization..\n",
      "Optimal value: 66085.259826963\n",
      "Elapsed time: 52.09355354309082 seconds\n"
     ]
    },
    {
     "name": "stderr",
     "output_type": "stream",
     "text": [
      "\r",
      "Iteration 0:  95%|███████████████████████████████████████▉  | 19/20 [11:44<00:47, 47.25s/it, episode=10, return=64.800]"
     ]
    },
    {
     "name": "stdout",
     "output_type": "stream",
     "text": [
      "Creating BEV..\n",
      "Loading sparse influence matrix...\n",
      "Done\n",
      "Objective Start\n",
      "Objective done\n",
      "Constraints Start\n",
      "Constraints done\n",
      "Running Optimization..\n",
      "Optimal value: 66085.2684308791\n",
      "Elapsed time: 55.44804501533508 seconds\n"
     ]
    },
    {
     "name": "stderr",
     "output_type": "stream",
     "text": [
      "Iteration 0: 100%|██████████████████████████████████████████| 20/20 [12:40<00:00, 38.02s/it, episode=20, return=66.000]\n"
     ]
    }
   ],
   "source": [
    "random.seed(0)\n",
    "np.random.seed(0)\n",
    "portpy_env.seed(0)\n",
    "torch.manual_seed(0)\n",
    "# state_dim = 72 + 8 * 128 = 1096\n",
    "state_dim = 1096\n",
    "action_dim = 72\n",
    "replay_buffer = rl_utils.ReplayBuffer(buffer_size)\n",
    "agent = DQN(state_dim, action_dim, lr, gamma, epsilon,\n",
    "            target_update, device)\n",
    "return_list, max_q_value_list = train_DQN(agent, portpy_env, num_episodes,\n",
    "                                          replay_buffer, minimal_size,\n",
    "                                          batch_size)"
   ]
  },
  {
   "cell_type": "code",
   "execution_count": 16,
   "id": "33ab5846",
   "metadata": {},
   "outputs": [
    {
     "name": "stdout",
     "output_type": "stream",
     "text": [
      "[119, 53, 53, 53, 53, 53, 66, 66, 66, 66, 66, 66, 66, 66, 66, 66, 66, 66, 66, 66] [0.0004086413234472275, 0.0008098867941647768, 0.0012091260375287384, 0.0026914045130806883, 0.003968596517147594, 0.038938260732895594, 0.22431594568045182, 0.2661122565007556, 0.2712830563499199, 0.27140441783399366, 0.27330499551584647, 0.27929092341245093, 0.29336746264609664, 0.3209611822214465, 0.3714052740535643, 0.4622562154414752, 0.6224996371230569, 0.8979650579437892, 1.346610799365496, 1.8613607089306803, 2.316272960561808, 2.6729189440866357, 2.942394830170646]\n"
     ]
    }
   ],
   "source": [
    "print(return_list, max_q_value_list)"
   ]
  },
  {
   "cell_type": "code",
   "execution_count": 17,
   "id": "502e5927",
   "metadata": {},
   "outputs": [
    {
     "ename": "NameError",
     "evalue": "name 'env_name' is not defined",
     "output_type": "error",
     "traceback": [
      "\u001b[1;31m---------------------------------------------------------------------------\u001b[0m",
      "\u001b[1;31mNameError\u001b[0m                                 Traceback (most recent call last)",
      "Cell \u001b[1;32mIn[17], line 6\u001b[0m\n\u001b[0;32m      4\u001b[0m plt\u001b[38;5;241m.\u001b[39mxlabel(\u001b[38;5;124m'\u001b[39m\u001b[38;5;124mEpisodes\u001b[39m\u001b[38;5;124m'\u001b[39m)\n\u001b[0;32m      5\u001b[0m plt\u001b[38;5;241m.\u001b[39mylabel(\u001b[38;5;124m'\u001b[39m\u001b[38;5;124mReturns\u001b[39m\u001b[38;5;124m'\u001b[39m)\n\u001b[1;32m----> 6\u001b[0m plt\u001b[38;5;241m.\u001b[39mtitle(\u001b[38;5;124m'\u001b[39m\u001b[38;5;124mDQN on \u001b[39m\u001b[38;5;132;01m{}\u001b[39;00m\u001b[38;5;124m'\u001b[39m\u001b[38;5;241m.\u001b[39mformat(\u001b[43menv_name\u001b[49m))\n\u001b[0;32m      7\u001b[0m plt\u001b[38;5;241m.\u001b[39mshow()\n\u001b[0;32m      9\u001b[0m frames_list \u001b[38;5;241m=\u001b[39m \u001b[38;5;28mlist\u001b[39m(\u001b[38;5;28mrange\u001b[39m(\u001b[38;5;28mlen\u001b[39m(max_q_value_list)))\n",
      "\u001b[1;31mNameError\u001b[0m: name 'env_name' is not defined"
     ]
    },
    {
     "data": {
      "image/png": "[encoded data removed]",
      "text/plain": [
       "<Figure size 640x480 with 1 Axes>"
      ]
     },
     "metadata": {},
     "output_type": "display_data"
    }
   ],
   "source": [
    "episodes_list = list(range(len(return_list)))\n",
    "mv_return = rl_utils.moving_average(return_list, 5)\n",
    "plt.plot(episodes_list, mv_return)\n",
    "plt.xlabel('Episodes')\n",
    "plt.ylabel('Returns')\n",
    "plt.title('DQN on {}'.format(env_name))\n",
    "plt.show()\n",
    "\n",
    "frames_list = list(range(len(max_q_value_list)))\n",
    "plt.plot(frames_list, max_q_value_list)\n",
    "plt.axhline(0, c='orange', ls='--')\n",
    "plt.axhline(10, c='red', ls='--')\n",
    "plt.xlabel('Frames')\n",
    "plt.ylabel('Q value')\n",
    "plt.title('DQN on {}'.format(env_name))\n",
    "plt.show()\n"
   ]
  },
  {
   "cell_type": "code",
   "execution_count": null,
   "id": "211a6245",
   "metadata": {},
   "outputs": [],
   "source": [
    "random.seed(0)\n",
    "np.random.seed(0)\n",
    "env.seed(0)\n",
    "torch.manual_seed(0)\n",
    "replay_buffer = rl_utils.ReplayBuffer(buffer_size)\n",
    "agent = DQN(state_dim, hidden_dim, action_dim, lr, gamma, epsilon,\n",
    "            target_update, device, 'DoubleDQN')\n",
    "return_list, max_q_value_list = train_DQN(agent, env, num_episodes,\n",
    "                                          replay_buffer, minimal_size,\n",
    "                                          batch_size)\n",
    "\n",
    "episodes_list = list(range(len(return_list)))\n",
    "mv_return = rl_utils.moving_average(return_list, 5)\n",
    "plt.plot(episodes_list, mv_return)\n",
    "plt.xlabel('Episodes')\n",
    "plt.ylabel('Returns')\n",
    "plt.title('Double DQN on {}'.format(env_name))\n",
    "plt.show()\n",
    "\n",
    "frames_list = list(range(len(max_q_value_list)))\n",
    "plt.plot(frames_list, max_q_value_list)\n",
    "plt.axhline(0, c='orange', ls='--')\n",
    "plt.axhline(10, c='red', ls='--')\n",
    "plt.xlabel('Frames')\n",
    "plt.ylabel('Q value')\n",
    "plt.title('Double DQN on {}'.format(env_name))\n",
    "plt.show()"
   ]
  },
  {
   "cell_type": "code",
   "execution_count": null,
   "id": "917790dc",
   "metadata": {},
   "outputs": [],
   "source": []
  },
  {
   "cell_type": "code",
   "execution_count": null,
   "id": "40988978",
   "metadata": {},
   "outputs": [],
   "source": []
  }
 ],
 "metadata": {
  "kernelspec": {
   "display_name": "Python 3 (ipykernel)",
   "language": "python",
   "name": "python3"
  },
  "language_info": {
   "codemirror_mode": {
    "name": "ipython",
    "version": 3
   },
   "file_extension": ".py",
   "mimetype": "text/x-python",
   "name": "python",
   "nbconvert_exporter": "python",
   "pygments_lexer": "ipython3",
   "version": "3.9.12"
  }
 },
 "nbformat": 4,
 "nbformat_minor": 5
}
