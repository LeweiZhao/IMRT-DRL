{
 "cells": [
  {
   "cell_type": "code",
   "execution_count": 1,
   "id": "44a9176c",
   "metadata": {},
   "outputs": [
    {
     "name": "stdout",
     "output_type": "stream",
     "text": [
      "Objects in the HDF5 file:\n",
      "BEV_structure_contour_points\n",
      "MLC_leaves_pos_y_mm\n",
      "beamlets\n",
      "inf_matrix_full\n",
      "inf_matrix_sparse\n"
     ]
    }
   ],
   "source": [
    "import h5py\n",
    "file_path = r'../Data/Lung_Patient_7/Beams/Beam_0_Data.h5'\n",
    "\n",
    "f = h5py.File(file_path, 'r')\n",
    "print(\"Objects in the HDF5 file:\")\n",
    "for name in f:\n",
    "    print(name)\n",
    " \n",
    "f.close()"
   ]
  }
 ],
 "metadata": {
  "kernelspec": {
   "display_name": "Python 3 (ipykernel)",
   "language": "python",
   "name": "python3"
  },
  "language_info": {
   "codemirror_mode": {
    "name": "ipython",
    "version": 3
   },
   "file_extension": ".py",
   "mimetype": "text/x-python",
   "name": "python",
   "nbconvert_exporter": "python",
   "pygments_lexer": "ipython3",
   "version": "3.9.12"
  }
 },
 "nbformat": 4,
 "nbformat_minor": 5
}
